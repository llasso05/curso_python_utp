{
 "cells": [
  {
   "cell_type": "code",
   "execution_count": 2,
   "metadata": {},
   "outputs": [],
   "source": [
    "import numpy as np\n",
    "import pandas as pd "
   ]
  },
  {
   "cell_type": "code",
   "execution_count": 3,
   "metadata": {},
   "outputs": [],
   "source": [
    "df = pd.read_excel('Datos_Ventas.xlsx')"
   ]
  },
  {
   "cell_type": "code",
   "execution_count": 4,
   "metadata": {},
   "outputs": [
    {
     "data": {
      "text/html": [
       "<div>\n",
       "<style scoped>\n",
       "    .dataframe tbody tr th:only-of-type {\n",
       "        vertical-align: middle;\n",
       "    }\n",
       "\n",
       "    .dataframe tbody tr th {\n",
       "        vertical-align: top;\n",
       "    }\n",
       "\n",
       "    .dataframe thead th {\n",
       "        text-align: right;\n",
       "    }\n",
       "</style>\n",
       "<table border=\"1\" class=\"dataframe\">\n",
       "  <thead>\n",
       "    <tr style=\"text-align: right;\">\n",
       "      <th></th>\n",
       "      <th>ID</th>\n",
       "      <th>Vendedor</th>\n",
       "      <th>Ventas</th>\n",
       "      <th>Región</th>\n",
       "    </tr>\n",
       "  </thead>\n",
       "  <tbody>\n",
       "    <tr>\n",
       "      <th>0</th>\n",
       "      <td>1</td>\n",
       "      <td>Vendedor 2</td>\n",
       "      <td>200</td>\n",
       "      <td>Región 2</td>\n",
       "    </tr>\n",
       "    <tr>\n",
       "      <th>1</th>\n",
       "      <td>2</td>\n",
       "      <td>Vendedor 3</td>\n",
       "      <td>300</td>\n",
       "      <td>Región 3</td>\n",
       "    </tr>\n",
       "    <tr>\n",
       "      <th>2</th>\n",
       "      <td>3</td>\n",
       "      <td>Vendedor 4</td>\n",
       "      <td>400</td>\n",
       "      <td>Región 4</td>\n",
       "    </tr>\n",
       "    <tr>\n",
       "      <th>3</th>\n",
       "      <td>4</td>\n",
       "      <td>Vendedor 5</td>\n",
       "      <td>500</td>\n",
       "      <td>Región 1</td>\n",
       "    </tr>\n",
       "    <tr>\n",
       "      <th>4</th>\n",
       "      <td>5</td>\n",
       "      <td>Vendedor 6</td>\n",
       "      <td>100</td>\n",
       "      <td>Región 2</td>\n",
       "    </tr>\n",
       "  </tbody>\n",
       "</table>\n",
       "</div>"
      ],
      "text/plain": [
       "   ID    Vendedor  Ventas    Región\n",
       "0   1  Vendedor 2     200  Región 2\n",
       "1   2  Vendedor 3     300  Región 3\n",
       "2   3  Vendedor 4     400  Región 4\n",
       "3   4  Vendedor 5     500  Región 1\n",
       "4   5  Vendedor 6     100  Región 2"
      ]
     },
     "execution_count": 4,
     "metadata": {},
     "output_type": "execute_result"
    }
   ],
   "source": [
    "# head y tail nos dan los primeros y ultimos rows del dataframe\n",
    "df.head()"
   ]
  },
  {
   "cell_type": "code",
   "execution_count": 5,
   "metadata": {},
   "outputs": [
    {
     "data": {
      "text/html": [
       "<div>\n",
       "<style scoped>\n",
       "    .dataframe tbody tr th:only-of-type {\n",
       "        vertical-align: middle;\n",
       "    }\n",
       "\n",
       "    .dataframe tbody tr th {\n",
       "        vertical-align: top;\n",
       "    }\n",
       "\n",
       "    .dataframe thead th {\n",
       "        text-align: right;\n",
       "    }\n",
       "</style>\n",
       "<table border=\"1\" class=\"dataframe\">\n",
       "  <thead>\n",
       "    <tr style=\"text-align: right;\">\n",
       "      <th></th>\n",
       "      <th>ID</th>\n",
       "      <th>Ventas</th>\n",
       "    </tr>\n",
       "  </thead>\n",
       "  <tbody>\n",
       "    <tr>\n",
       "      <th>count</th>\n",
       "      <td>50.00000</td>\n",
       "      <td>50.000000</td>\n",
       "    </tr>\n",
       "    <tr>\n",
       "      <th>mean</th>\n",
       "      <td>25.50000</td>\n",
       "      <td>300.000000</td>\n",
       "    </tr>\n",
       "    <tr>\n",
       "      <th>std</th>\n",
       "      <td>14.57738</td>\n",
       "      <td>142.857143</td>\n",
       "    </tr>\n",
       "    <tr>\n",
       "      <th>min</th>\n",
       "      <td>1.00000</td>\n",
       "      <td>100.000000</td>\n",
       "    </tr>\n",
       "    <tr>\n",
       "      <th>25%</th>\n",
       "      <td>13.25000</td>\n",
       "      <td>200.000000</td>\n",
       "    </tr>\n",
       "    <tr>\n",
       "      <th>50%</th>\n",
       "      <td>25.50000</td>\n",
       "      <td>300.000000</td>\n",
       "    </tr>\n",
       "    <tr>\n",
       "      <th>75%</th>\n",
       "      <td>37.75000</td>\n",
       "      <td>400.000000</td>\n",
       "    </tr>\n",
       "    <tr>\n",
       "      <th>max</th>\n",
       "      <td>50.00000</td>\n",
       "      <td>500.000000</td>\n",
       "    </tr>\n",
       "  </tbody>\n",
       "</table>\n",
       "</div>"
      ],
      "text/plain": [
       "             ID      Ventas\n",
       "count  50.00000   50.000000\n",
       "mean   25.50000  300.000000\n",
       "std    14.57738  142.857143\n",
       "min     1.00000  100.000000\n",
       "25%    13.25000  200.000000\n",
       "50%    25.50000  300.000000\n",
       "75%    37.75000  400.000000\n",
       "max    50.00000  500.000000"
      ]
     },
     "execution_count": 5,
     "metadata": {},
     "output_type": "execute_result"
    }
   ],
   "source": [
    "# describe nos dan el conteo, media, desviacion, minimo, maximo y cuartiles de valores numericos\n",
    "df.describe()"
   ]
  },
  {
   "cell_type": "code",
   "execution_count": 6,
   "metadata": {},
   "outputs": [
    {
     "name": "stdout",
     "output_type": "stream",
     "text": [
      "<class 'pandas.core.frame.DataFrame'>\n",
      "RangeIndex: 50 entries, 0 to 49\n",
      "Data columns (total 4 columns):\n",
      " #   Column    Non-Null Count  Dtype \n",
      "---  ------    --------------  ----- \n",
      " 0   ID        50 non-null     int64 \n",
      " 1   Vendedor  50 non-null     object\n",
      " 2   Ventas    50 non-null     int64 \n",
      " 3   Región    50 non-null     object\n",
      "dtypes: int64(2), object(2)\n",
      "memory usage: 1.7+ KB\n"
     ]
    }
   ],
   "source": [
    "# info nos da el conteo de valores no vacios y tipo de dato por vector\n",
    "df.info()"
   ]
  },
  {
   "cell_type": "code",
   "execution_count": 7,
   "metadata": {},
   "outputs": [
    {
     "data": {
      "text/plain": [
       "<Axes: >"
      ]
     },
     "execution_count": 7,
     "metadata": {},
     "output_type": "execute_result"
    },
    {
     "data": {
      "image/png": "[encoded data removed]",
      "text/plain": [
       "<Figure size 432x288 with 1 Axes>"
      ]
     },
     "metadata": {
      "needs_background": "light"
     },
     "output_type": "display_data"
    }
   ],
   "source": [
    "# plot grafica los valores numericos\n",
    "df.plot()"
   ]
  },
  {
   "cell_type": "code",
   "execution_count": 12,
   "metadata": {},
   "outputs": [
    {
     "name": "stdout",
     "output_type": "stream",
     "text": [
      "Región    Vendedor   \n",
      "Región 1  Vendedor 1      200\n",
      "          Vendedor 3      600\n",
      "          Vendedor 5     1500\n",
      "          Vendedor 7      400\n",
      "          Vendedor 9     1200\n",
      "Región 2  Vendedor 10    1500\n",
      "          Vendedor 2      600\n",
      "          Vendedor 4      800\n",
      "          Vendedor 6      300\n",
      "          Vendedor 8      600\n",
      "Región 3  Vendedor 1      300\n",
      "          Vendedor 3      900\n",
      "          Vendedor 5     1000\n",
      "          Vendedor 7      600\n",
      "          Vendedor 9      800\n",
      "Región 4  Vendedor 10    1000\n",
      "          Vendedor 2      400\n",
      "          Vendedor 4     1200\n",
      "          Vendedor 6      200\n",
      "          Vendedor 8      900\n",
      "Name: Ventas, dtype: int64\n"
     ]
    }
   ],
   "source": [
    "# ventas por region y vendedor\n",
    "ventas_region_vendedor = df.groupby(['Región', 'Vendedor'])['Ventas'].sum()\n",
    "print(ventas_vendedor)"
   ]
  },
  {
   "cell_type": "code",
   "execution_count": 16,
   "metadata": {},
   "outputs": [
    {
     "name": "stdout",
     "output_type": "stream",
     "text": [
      "Vendedor\n",
      "Vendedor 1      500\n",
      "Vendedor 10    2500\n",
      "Vendedor 2     1000\n",
      "Vendedor 3     1500\n",
      "Vendedor 4     2000\n",
      "Vendedor 5     2500\n",
      "Vendedor 6      500\n",
      "Vendedor 7     1000\n",
      "Vendedor 8     1500\n",
      "Vendedor 9     2000\n",
      "Name: Ventas, dtype: int64\n"
     ]
    }
   ],
   "source": [
    "# ventas por vendedor\n",
    "ventas_vendedor = df.groupby(['Vendedor'])['Ventas'].sum()\n",
    "print(ventas_vendedor)"
   ]
  },
  {
   "cell_type": "code",
   "execution_count": 15,
   "metadata": {},
   "outputs": [
    {
     "name": "stdout",
     "output_type": "stream",
     "text": [
      "Región\n",
      "Región 1    3900\n",
      "Región 2    3800\n",
      "Región 3    3600\n",
      "Región 4    3700\n",
      "Name: Ventas, dtype: int64\n"
     ]
    }
   ],
   "source": [
    "# ventas por region\n",
    "ventas_region = df.groupby(['Región'])['Ventas'].sum()\n",
    "print(ventas_vendedor)"
   ]
  },
  {
   "cell_type": "code",
   "execution_count": 18,
   "metadata": {},
   "outputs": [
    {
     "name": "stdout",
     "output_type": "stream",
     "text": [
      "Vendedor 10\n"
     ]
    }
   ],
   "source": [
    "# idxmax te da el id con el valor maximo\n",
    "mejor_vendedor = ventas_vendedor.idxmax()\n",
    "print(mejor_vendedor)"
   ]
  },
  {
   "cell_type": "code",
   "execution_count": 19,
   "metadata": {},
   "outputs": [
    {
     "data": {
      "text/html": [
       "<div>\n",
       "<style scoped>\n",
       "    .dataframe tbody tr th:only-of-type {\n",
       "        vertical-align: middle;\n",
       "    }\n",
       "\n",
       "    .dataframe tbody tr th {\n",
       "        vertical-align: top;\n",
       "    }\n",
       "\n",
       "    .dataframe thead th {\n",
       "        text-align: right;\n",
       "    }\n",
       "</style>\n",
       "<table border=\"1\" class=\"dataframe\">\n",
       "  <thead>\n",
       "    <tr style=\"text-align: right;\">\n",
       "      <th></th>\n",
       "      <th>ID</th>\n",
       "      <th>Vendedor</th>\n",
       "      <th>Ventas</th>\n",
       "      <th>Región</th>\n",
       "    </tr>\n",
       "  </thead>\n",
       "  <tbody>\n",
       "    <tr>\n",
       "      <th>8</th>\n",
       "      <td>9</td>\n",
       "      <td>Vendedor 10</td>\n",
       "      <td>500</td>\n",
       "      <td>Región 2</td>\n",
       "    </tr>\n",
       "    <tr>\n",
       "      <th>18</th>\n",
       "      <td>19</td>\n",
       "      <td>Vendedor 10</td>\n",
       "      <td>500</td>\n",
       "      <td>Región 4</td>\n",
       "    </tr>\n",
       "    <tr>\n",
       "      <th>28</th>\n",
       "      <td>29</td>\n",
       "      <td>Vendedor 10</td>\n",
       "      <td>500</td>\n",
       "      <td>Región 2</td>\n",
       "    </tr>\n",
       "    <tr>\n",
       "      <th>38</th>\n",
       "      <td>39</td>\n",
       "      <td>Vendedor 10</td>\n",
       "      <td>500</td>\n",
       "      <td>Región 4</td>\n",
       "    </tr>\n",
       "    <tr>\n",
       "      <th>48</th>\n",
       "      <td>49</td>\n",
       "      <td>Vendedor 10</td>\n",
       "      <td>500</td>\n",
       "      <td>Región 2</td>\n",
       "    </tr>\n",
       "  </tbody>\n",
       "</table>\n",
       "</div>"
      ],
      "text/plain": [
       "    ID     Vendedor  Ventas    Región\n",
       "8    9  Vendedor 10     500  Región 2\n",
       "18  19  Vendedor 10     500  Región 4\n",
       "28  29  Vendedor 10     500  Región 2\n",
       "38  39  Vendedor 10     500  Región 4\n",
       "48  49  Vendedor 10     500  Región 2"
      ]
     },
     "execution_count": 19,
     "metadata": {},
     "output_type": "execute_result"
    }
   ],
   "source": [
    "# loc[] te permite filtrar el dataframe utilizando los valores dentro del df\n",
    "df.loc[df['Vendedor'] == mejor_vendedor]"
   ]
  }
 ],
 "metadata": {
  "kernelspec": {
   "display_name": "Python 3",
   "language": "python",
   "name": "python3"
  },
  "language_info": {
   "codemirror_mode": {
    "name": "ipython",
    "version": 3
   },
   "file_extension": ".py",
   "mimetype": "text/x-python",
   "name": "python",
   "nbconvert_exporter": "python",
   "pygments_lexer": "ipython3",
   "version": "3.8.10"
  },
  "orig_nbformat": 4
 },
 "nbformat": 4,
 "nbformat_minor": 2
}
