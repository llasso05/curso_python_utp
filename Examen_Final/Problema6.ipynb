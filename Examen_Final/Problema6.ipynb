{
 "cells": [
  {
   "cell_type": "markdown",
   "metadata": {},
   "source": [
    "# Paso 1: Importar NumPy\n",
    "\n",
    "Primero, asegúrate de que NumPy esté instalado y luego impórtalo en la primera celda de tu\n",
    "Jupyter Notebook."
   ]
  },
  {
   "cell_type": "code",
   "execution_count": 2,
   "metadata": {},
   "outputs": [],
   "source": [
    "import numpy as np"
   ]
  },
  {
   "cell_type": "markdown",
   "metadata": {},
   "source": [
    "# Paso 2: Funciones para calcular estadísticas\n",
    "\n",
    "En la siguiente celda, define las funciones que calcularán las estadísticas. Puedes incluir\n",
    "todas las funciones estadísticas en una celda para mantener el código organizado."
   ]
  },
  {
   "cell_type": "code",
   "execution_count": 3,
   "metadata": {},
   "outputs": [],
   "source": [
    "def calcular_media(datos):\n",
    "    return np.mean(datos)\n",
    "\n",
    "def calcular_mediana(datos):\n",
    "    return np.median(datos)\n",
    "\n",
    "def calcular_varianza(datos):\n",
    "    return np.var(datos)\n",
    "\n",
    "def calcular_desviacion_estandar(datos):\n",
    "    return np.std(datos)"
   ]
  },
  {
   "cell_type": "markdown",
   "metadata": {},
   "source": [
    "# Paso 3: Función para leer y mostrar estadísticas\n",
    "\n",
    "En otra celda, define la función para leer datos del usuario y la función para mostrar las\n",
    "estadísticas. En Jupyter Notebook, puedes utilizar una caja de texto interactiva para la\n",
    "entrada de datos."
   ]
  },
  {
   "cell_type": "code",
   "execution_count": 4,
   "metadata": {},
   "outputs": [],
   "source": [
    "def leer_datos():\n",
    "    datos_crudos = input(\"Ingrese los números separados por comas: \")\n",
    "    datos_numeros = np.array([float(x) for x in datos_crudos.split(',')])\n",
    "    return datos_numeros\n",
    "\n",
    "def mostrar_estadisticas(datos):\n",
    "    print(f\"Media: {calcular_media(datos)}\")\n",
    "    print(f\"Mediana: {calcular_mediana(datos)}\")\n",
    "    print(f\"Varianza: {calcular_varianza(datos)}\")\n",
    "    print(f\"Desviación Estándar: {calcular_desviacion_estandar(datos)}\")"
   ]
  },
  {
   "cell_type": "markdown",
   "metadata": {},
   "source": [
    "Paso 4: Celda interactiva para ejecutar el programa\n",
    "\n",
    "Finalmente, en la última celda, crea una pequeña interfaz interactiva que permita al usuario\n",
    "ingresar datos y ver las estadísticas calculadas directamente."
   ]
  },
  {
   "cell_type": "code",
   "execution_count": 6,
   "metadata": {},
   "outputs": [],
   "source": [
    "# Interacción con el usuario para ingresar datos y mostrar estadísticas\n",
    "datos = leer_datos()"
   ]
  },
  {
   "cell_type": "code",
   "execution_count": null,
   "metadata": {},
   "outputs": [],
   "source": [
    "mostrar_estadisticas(datos)"
   ]
  },
  {
   "cell_type": "markdown",
   "metadata": {},
   "source": [
    "\n",
    "# Ejecución interactiva\n",
    "\n",
    "Cuando ejecutes esta última celda en tu Jupyter Notebook, se pedirá al usuario que\n",
    "introduzca los números. Después de ingresar los datos, el notebook mostrará las estadísticas\n",
    "inmediatamente. Esta interacción es especialmente útil en entornos educativos porque\n",
    "permite a los estudiantes ver directamente cómo los cambios en los datos afectan los\n",
    "resultados.\n",
    "\n",
    "\n",
    "\n"
   ]
  }
 ],
 "metadata": {
  "kernelspec": {
   "display_name": "Python 3",
   "language": "python",
   "name": "python3"
  },
  "language_info": {
   "codemirror_mode": {
    "name": "ipython",
    "version": 3
   },
   "file_extension": ".py",
   "mimetype": "text/x-python",
   "name": "python",
   "nbconvert_exporter": "python",
   "pygments_lexer": "ipython3",
   "version": "3.11.4"
  }
 },
 "nbformat": 4,
 "nbformat_minor": 2
}
