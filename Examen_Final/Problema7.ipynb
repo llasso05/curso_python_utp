{
 "cells": [
  {
   "cell_type": "markdown",
   "metadata": {},
   "source": [
    "# Paso 1: Importar Pandas\n",
    "\n",
    "Primero, asegúrate de que Pandas esté instalado y luego impórtalo en la primera celda de tu\n",
    "Jupyter Notebook o script Python."
   ]
  },
  {
   "cell_type": "code",
   "execution_count": 1,
   "metadata": {},
   "outputs": [],
   "source": [
    "import pandas as pd"
   ]
  },
  {
   "cell_type": "markdown",
   "metadata": {},
   "source": [
    "# Paso 2: Cargar datos desde un archivo CSV\n",
    "\n",
    "En la siguiente celda o parte del script, añade el código para cargar datos desde un archivo\n",
    "CSV. Asegúrate de tener un archivo CSV llamado datos.csv en el mismo directorio que\n",
    "tu notebook o script, o ajusta la ruta al lugar donde se encuentra tu archivo."
   ]
  },
  {
   "cell_type": "code",
   "execution_count": 2,
   "metadata": {},
   "outputs": [],
   "source": [
    "def cargar_datos(ruta_archivo):\n",
    "    \"\"\"Carga los datos desde un archivo CSV especificado por la\n",
    "    ruta_archivo.\"\"\"\n",
    "    try:\n",
    "        datos = pd.read_csv(ruta_archivo)\n",
    "        print(\"Datos cargados correctamente.\")\n",
    "        return datos\n",
    "    except FileNotFoundError:\n",
    "        print(\"El archivo no se encontró. Verifique la ruta y el nombre del archivo.\")\n",
    "    return None"
   ]
  },
  {
   "cell_type": "markdown",
   "metadata": {},
   "source": [
    "Paso 3: Funciones para calcular estadísticas descriptivas\n",
    "Define funciones para calcular y mostrar estadísticas descriptivas como la media, mediana,\n",
    "máximo, mínimo y desviación estándar."
   ]
  },
  {
   "cell_type": "code",
   "execution_count": 3,
   "metadata": {},
   "outputs": [],
   "source": [
    "def mostrar_estadisticas_descriptivas(datos):\n",
    "    \"\"\"Muestra estadísticas descriptivas de un DataFrame de Pandas.\"\"\"\n",
    "    if datos is not None:\n",
    "        print(\"Estadísticas descriptivas:\")\n",
    "        print(datos.describe())\n",
    "    else:\n",
    "        print(\"No hay datos para mostrar estadísticas.\")"
   ]
  },
  {
   "cell_type": "markdown",
   "metadata": {},
   "source": [
    "Paso 4: Interacción con el usuario para cargar datos y mostrar estadísticas\n",
    "En la última parte del código, solicita al usuario que introduzca la ruta del archivo y utiliza\n",
    "las funciones definidas para cargar los datos y mostrar las estadísticas."
   ]
  },
  {
   "cell_type": "code",
   "execution_count": 5,
   "metadata": {},
   "outputs": [],
   "source": [
    "def main():\n",
    "    ruta_archivo = input(\"Introduzca la ruta del archivo CSV: \")\n",
    "    datos = cargar_datos(ruta_archivo)\n",
    "    mostrar_estadisticas_descriptivas(datos)"
   ]
  },
  {
   "cell_type": "code",
   "execution_count": 6,
   "metadata": {},
   "outputs": [],
   "source": [
    "if __name__ == '__main__':\n",
    "    main()"
   ]
  },
  {
   "cell_type": "markdown",
   "metadata": {},
   "source": [
    "Este ejemplo demuestra cómo usar Pandas para realizar un análisis básico de datos. Pandas\n",
    "es extremadamente útil para el manejo de datos en formatos tabulares y ofrece numerosas\n",
    "funciones para realizar cálculos estadísticos y manipulación de datos de manera eficiente."
   ]
  }
 ],
 "metadata": {
  "kernelspec": {
   "display_name": "Python 3",
   "language": "python",
   "name": "python3"
  },
  "language_info": {
   "codemirror_mode": {
    "name": "ipython",
    "version": 3
   },
   "file_extension": ".py",
   "mimetype": "text/x-python",
   "name": "python",
   "nbconvert_exporter": "python",
   "pygments_lexer": "ipython3",
   "version": "3.11.4"
  }
 },
 "nbformat": 4,
 "nbformat_minor": 2
}
